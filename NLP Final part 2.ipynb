{
 "cells": [
  {
   "cell_type": "code",
   "execution_count": 63,
   "id": "ca96f79d",
   "metadata": {},
   "outputs": [],
   "source": [
    "import pandas as pd\n",
    "from nltk import word_tokenize\n",
    "import contractions\n",
    "def csv_to_lst(file):\n",
    "    \"\"\"\n",
    "    Grabs the lyric section of the given csv and convert it to a string\n",
    "    Parameters:\n",
    "        file (CSV): file path where csv is located\n",
    "    Returns:\n",
    "        A list string representing all of the text section in the csv\n",
    "    \"\"\"\n",
    "    lyrics_df = pd.read_csv(file) \n",
    "    lyrics_df = lyrics_df.head(5)\n",
    "\n",
    "    lyrics_list = list(lyrics_df['lyrics'])\n",
    "\n",
    "\n",
    "    return lyrics_list\n",
    "\n"
   ]
  },
  {
   "cell_type": "code",
   "execution_count": 64,
   "id": "726146c3",
   "metadata": {},
   "outputs": [],
   "source": [
    "def pre_process_all_lyrics(lyric_list):\n",
    "    processed = []\n",
    "    for lyrics in lyric_list:\n",
    "        processed.append(pre_process_text(lyrics))\n",
    "    return processed"
   ]
  },
  {
   "cell_type": "code",
   "execution_count": 65,
   "id": "747e5a53",
   "metadata": {},
   "outputs": [],
   "source": [
    "def pre_process_text(lyrics):\n",
    "    \"\"\"\n",
    "    Preprocesses the text to add start and end tokens to each sentence\n",
    "    Parameters:\n",
    "        lst (list): list of lyrics \n",
    "    Returns:\n",
    "        List of List of words with start and end tokens\n",
    "    \"\"\"\n",
    "    \n",
    "    #lowercase all text\n",
    "    #remove punctuation\n",
    "    #remove song title\n",
    "    #remove anything in brackets\n",
    "    #remove ending 'Embed'\n",
    "    #remove \\n\n",
    "    #return list of list tokens---nltk tokenize\n",
    "    #remove numbers\n",
    "    \n",
    "  \n",
    "\n",
    "    word_list = word_tokenize(contractions.fix(lyrics))\n",
    "   \n",
    "\n",
    "    index = word_list.index('Lyrics')\n",
    "    word_list = word_list[index + 1:]\n",
    "    \n",
    "    no_brackets_list = []\n",
    "    is_inside = False\n",
    "    punctuation_list = '''!()-[];:'\"\\,<>./?@#$%^&*_~”“’‘--...'''\n",
    "    \n",
    "    for word in word_list:\n",
    "        if word == '[':\n",
    "            is_inside = True\n",
    "        if word == ']':\n",
    "            is_inside = False\n",
    "        else:\n",
    "            if not is_inside:\n",
    "                if word not in punctuation_list:\n",
    "                    no_brackets_list.append(word.lower())\n",
    "            \n",
    "    end_word = no_brackets_list[len(no_brackets_list)-1]   \n",
    "    new_end_word = \"\"\n",
    "    for c in end_word:\n",
    "        if c.isdigit(): \n",
    "            break\n",
    "        else:\n",
    "            new_end_word = new_end_word + c\n",
    "    no_brackets_list[len(no_brackets_list)-1] = new_end_word\n",
    "    return no_brackets_list\n",
    "\n",
    "    \n",
    "    \n",
    "    \n"
   ]
  },
  {
   "cell_type": "code",
   "execution_count": 66,
   "id": "e6f1c73b",
   "metadata": {},
   "outputs": [
    {
     "name": "stdout",
     "output_type": "stream",
     "text": [
      "[['is', 'this', 'the', 'real', 'life', 'is', 'this', 'just', 'fantasy', 'caught', 'in', 'a', 'landslide', 'no', 'escape', 'from', 'reality', 'open', 'your', 'eyes', 'look', 'up', 'to', 'the', 'skies', 'and', 'see', 'i', 'am', 'just', 'a', 'poor', 'boy', 'i', 'need', 'no', 'sympathy', 'because', 'i', 'am', 'easy', 'come', 'easy', 'go', 'little', 'high', 'little', 'low', 'any', 'way', 'the', 'wind', 'blows', 'does', 'not', 'really', 'matter', 'to', 'me', 'to', 'me', 'mama', 'just', 'killed', 'a', 'man', 'put', 'a', 'gun', 'against', 'his', 'head', 'pulled', 'my', 'trigger', 'now', 'he', 'is', 'dead', 'mama', 'life', 'had', 'just', 'begun', 'but', 'now', 'i', 'have', 'gone', 'and', 'thrown', 'it', 'all', 'away', 'mama', 'ooh', 'did', 'not', 'mean', 'to', 'make', 'you', 'cry', 'if', 'i', 'am', 'not', 'back', 'again', 'this', 'time', 'tomorrow', 'carry', 'on', 'carry', 'on', 'as', 'if', 'nothing', 'really', 'matters', 'too', 'late', 'my', 'time', 'has', 'come', 'sends', 'shivers', 'down', 'my', 'spine', 'body', \"'s\", 'aching', 'all', 'the', 'time', 'goodbye', 'everybody', 'i', 'have', 'got', 'to', 'go', 'got', 'to', 'leave', 'you', 'all', 'behind', 'and', 'face', 'the', 'truth', 'mama', 'ooh', 'any', 'way', 'the', 'wind', 'blows', 'i', 'do', 'not', 'want', 'to', 'die', 'i', 'sometimes', 'wish', 'i', 'would', 'never', 'been', 'born', 'at', 'all', 'i', 'see', 'a', 'little', 'silhouetto', 'of', 'a', 'man', 'scaramouche', 'scaramouche', 'will', 'you', 'do', 'the', 'fandango', 'thunderbolt', 'and', 'lightning', 'very', 'very', 'frightening', 'me', 'galileo', 'galileo', 'galileo', 'galileo', 'galileo', 'figaro', 'magnifico', 'but', 'i', 'am', 'just', 'a', 'poor', 'boy', 'nobody', 'loves', 'me', 'he', 'is', 'just', 'a', 'poor', 'boy', 'from', 'a', 'poor', 'family', 'spare', 'him', 'his', 'life', 'from', 'this', 'monstrosity', 'easy', 'come', 'easy', 'go', 'will', 'you', 'let', 'me', 'go', 'bismillah', 'no', 'we', 'will', 'not', 'let', 'you', 'go', 'let', 'him', 'go', 'bismillah', 'we', 'will', 'not', 'let', 'you', 'go', 'let', 'him', 'go', 'bismillah', 'we', 'will', 'not', 'let', 'you', 'go', 'let', 'me', 'go', 'will', 'not', 'let', 'you', 'go', 'let', 'me', 'go', 'will', 'not', 'let', 'you', 'go', 'never', 'never', 'never', 'never', 'let', 'me', 'go', 'ah', 'no', 'no', 'no', 'no', 'no', 'no', 'no', 'oh', 'mamma', 'mia', 'mamma', 'mia', 'mamma', 'mia', 'let', 'me', 'go', 'beelzebub', 'has', 'a', 'devil', 'put', 'aside', 'for', 'me', 'for', 'me', 'for', 'me', 'so', 'you', 'think', 'you', 'can', 'stone', 'me', 'and', 'spit', 'in', 'my', 'eye', 'so', 'you', 'think', 'you', 'can', 'love', 'me', 'and', 'leave', 'me', 'to', 'die', 'oh', 'baby', 'can', 'not', 'do', 'this', 'to', 'me', 'baby', 'just', 'got', 'to', 'get', 'out', 'just', 'got', 'to', 'get', 'right', 'outta', 'here', 'ooh', 'ooh', 'yeah', 'ooh', 'yeah', 'nothing', 'really', 'matters', 'anyone', 'can', 'see', 'nothing', 'really', 'matters', 'nothing', 'really', 'matters', 'to', 'me', 'any', 'way', 'the', 'wind', 'blows'], ['tell', 'me', 'something', 'girl', 'are', 'you', 'happy', 'in', 'this', 'modern', 'world', 'or', 'do', 'you', 'need', 'more', 'is', 'there', 'something', 'else', 'you', 'are', 'searchin', 'for', 'i', 'am', \"fallin'\", 'in', 'all', 'the', 'good', 'times', 'i', 'find', 'myself', 'longing', 'for', 'change', 'and', 'in', 'the', 'bad', 'times', 'i', 'fear', 'myself', 'tell', 'me', 'something', 'boy', 'are', 'not', 'you', 'tired', 'tryna', 'fill', 'that', 'void', 'or', 'do', 'you', 'need', 'more', 'are', 'not', 'it', 'hard', 'keepin', 'it', 'so', 'hardcore', 'i', 'am', 'falling', 'in', 'all', 'the', 'good', 'times', 'i', 'find', 'myself', 'longing', 'for', 'change', 'and', 'in', 'the', 'bad', 'times', 'i', 'fear', 'myself', 'i', 'am', 'off', 'the', 'deep', 'end', 'watch', 'as', 'i', 'dive', 'in', 'i', 'will', 'never', 'meet', 'the', 'ground', 'crash', 'through', 'the', 'surface', 'where', 'they', 'can', 'not', 'hurt', 'us', 'we', 'are', 'far', 'from', 'the', 'shallow', 'now', 'in', 'the', 'sha-ha', 'sha-hallow', 'in', 'the', 'sha-ha', 'sha-la-la-la-low', 'in', 'the', 'sha-ha', 'sha-hallow', 'we', 'are', 'far', 'from', 'the', 'shallow', 'now', 'oh', 'ha', 'ah', 'ha', 'oh-ah', 'ha', 'i', 'am', 'off', 'the', 'deep', 'end', 'watch', 'as', 'i', 'dive', 'in', 'i', 'will', 'never', 'meet', 'the', 'ground', 'crash', 'through', 'the', 'surface', 'where', 'they', 'can', 'not', 'hurt', 'us', 'we', 'are', 'far', 'from', 'the', 'shallow', 'now', 'in', 'the', 'sha-ha', 'shallow', 'in', 'the', 'sha-ha', 'sha-la-la-la-low', 'in', 'the', 'sha-ha', 'shallow', 'we', 'are', 'far', 'from', 'the', 'shallow', 'now'], ['first', 'things', 'first', 'i', 'am', 'about', 'to', 'say', 'all', 'the', 'words', 'inside', 'my', 'head', 'i', 'am', 'fired', 'up', 'and', 'tired', 'of', 'the', 'way', 'that', 'things', 'have', 'been', 'oh-ooh', 'the', 'way', 'that', 'things', 'have', 'been', 'oh-ooh', 'second', 'thing', 'second', 'do', 'not', 'you', 'tell', 'me', 'what', 'you', 'think', 'that', 'i', 'could', 'be', 'i', 'am', 'the', 'one', 'at', 'the', 'sail', 'i', 'am', 'the', 'master', 'of', 'my', 'sea', 'oh-ooh', 'the', 'master', 'of', 'my', 'sea', 'oh-ooh', 'i', 'was', 'broken', 'from', 'a', 'young', 'age', 'taking', 'my', 'sulkin', 'to', 'the', 'masses', 'writing', 'my', 'poems', 'for', 'the', 'few', 'that', 'look', 'at', 'me', 'took', 'to', 'me', 'shook', 'at', 'me', 'feelin', 'me', 'singing', 'from', 'heartache', 'from', 'the', 'pain', 'taking', 'my', 'message', 'from', 'the', 'veins', 'speaking', 'my', 'lesson', 'from', 'the', 'brain', 'seeing', 'the', 'beauty', 'through', 'the', 'pain', 'you', 'made', 'me', 'a', 'you', 'made', 'me', 'a', 'believer', 'believer', 'pain', 'you', 'break', 'me', 'down', 'and', 'build', 'me', 'up', 'believer', 'believer', 'pain', 'oh', 'let', 'the', 'bullets', 'fly', 'oh', 'let', 'them', 'rain', 'my', 'life', 'my', 'love', 'my', 'drive', 'it', 'came', 'from…', 'pain', 'you', 'made', 'me', 'a', 'you', 'made', 'me', 'a', 'believer', 'believer', 'third', 'things', 'third', 'send', 'a', 'prayer', 'to', 'the', 'ones', 'up', 'above', 'all', 'the', 'hate', 'that', 'you', 'have', 'heard', 'has', 'turned', 'your', 'spirit', 'to', 'a', 'dove', 'oh-ooh', 'your', 'spirit', 'up', 'above', 'oh-ooh', 'i', 'was', 'chokin', 'in', 'the', 'crowd', 'building', 'my', 'rain', 'up', 'in', 'the', 'cloud', 'falling', 'like', 'ashes', 'to', 'the', 'ground', 'hoping', 'my', 'feelings', 'they', 'would', 'drown', 'but', 'they', 'never', 'did', 'ever', 'lived', 'ebbin', 'and', \"flowin'\", 'inhibited', 'limited', \"'til\", 'it', 'broke', 'open', 'and', 'rained', 'down', 'it', 'rained', 'down', 'like…', 'pain', 'you', 'made', 'me', 'a', 'you', 'made', 'me', 'a', 'believer', 'believer', 'pain', 'you', 'break', 'me', 'down', 'and', 'build', 'me', 'up', 'believer', 'believer', 'pain', 'oh', 'let', 'the', 'bullets', 'fly', 'oh', 'let', 'them', 'rain', 'my', 'life', 'my', 'love', 'my', 'drive', 'it', 'came', 'from…', 'pain', 'you', 'made', 'me', 'a', 'you', 'made', 'me', 'a', 'believer', 'believer', 'last', 'things', 'last', 'by', 'the', 'grace', 'of', 'the', 'fire', 'and', 'the', 'flames', 'you', 'are', 'the', 'face', 'of', 'the', 'future', 'the', 'blood', 'in', 'my', 'veins', 'oh-ooh', 'the', 'blood', 'in', 'my', 'veins', 'oh-ooh', 'but', 'they', 'never', 'did', 'ever', 'lived', 'ebbin', 'and', \"flowin'\", 'inhibited', 'limited', \"'til\", 'it', 'broke', 'open', 'and', 'rained', 'down', 'it', 'rained', 'down', 'like…', 'pain', 'you', 'made', 'me', 'a', 'you', 'made', 'me', 'a', 'believer', 'believer', 'pain', 'you', 'break', 'me', 'down', 'and', 'build', 'me', 'up', 'believer', 'believer', 'pain', 'oh', 'let', 'the', 'bullets', 'fly', 'oh', 'let', 'them', 'rain', 'my', 'life', 'my', 'love', 'my', 'drive', 'it', 'came', 'from…', 'pain', 'you', 'made', 'me', 'a', 'you', 'made', 'me', 'a', 'believer', 'believer'], ['look', 'if', 'you', 'had', 'one', 'shot', 'or', 'one', 'opportunity', 'to', 'seize', 'everything', 'you', 'ever', 'wanted', 'in', 'one', 'moment', 'would', 'you', 'capture', 'it', 'or', 'just', 'let', 'it', 'slip', 'yo', 'his', 'palms', 'are', 'sweaty', 'knees', 'weak', 'arms', 'are', 'heavy', 'there', 'is', 'vomit', 'on', 'his', 'sweater', 'already', 'mom', \"'s\", 'spaghetti', 'he', 'is', 'nervous', 'but', 'on', 'the', 'surface', 'he', 'looks', 'calm', 'and', 'ready', 'to', 'drop', 'bombs', 'but', 'he', 'keeps', 'on', 'forgetting', 'what', 'he', 'wrote', 'down', 'the', 'whole', 'crowd', 'goes', 'so', 'loud', 'he', 'opens', 'his', 'mouth', 'but', 'the', 'words', 'will', 'not', 'come', 'out', 'he', 'is', 'choking', 'how', 'everybody', \"'s\", 'joking', 'now', 'the', 'clock', \"'s\", 'run', 'out', 'time', \"'s\", 'up', 'over', 'blaow', 'snap', 'back', 'to', 'reality', 'ope', 'there', 'goes', 'gravity', 'ope', 'there', 'goes', 'rabbit', 'he', 'choked', 'he', 'is', 'so', 'mad', 'but', 'he', 'will', 'not', 'give', 'up', 'that', 'easy', 'no', 'he', 'will', 'not', 'have', 'it', 'he', 'knows', 'his', 'whole', 'back', \"'s\", 'to', 'these', 'ropes', 'it', 'do', 'not', 'matter', 'he', 'is', 'dope', 'he', 'knows', 'that', 'but', 'he', 'is', 'broke', 'he', 'is', 'so', 'stagnant', 'he', 'knows', 'when', 'he', 'goes', 'back', 'to', 'this', 'mobile', 'home', 'that', 'is', 'when', 'it', 'is', 'back', 'to', 'the', 'lab', 'again', 'yo', 'this', 'old', 'rhapsody', 'better', 'go', 'capture', 'this', 'moment', 'and', 'hope', 'it', 'do', 'not', 'pass', 'him', 'and', 'you', 'better', 'lose', 'yourself', 'in', 'the', 'music', 'the', 'moment', 'you', 'own', 'it', 'you', 'better', 'never', 'let', 'it', 'go', 'go', 'you', 'only', 'get', 'one', 'shot', 'do', 'not', 'miss', 'your', 'chance', 'to', 'blow', 'this', 'opportunity', 'comes', 'once', 'in', 'a', 'lifetime', 'yo', 'you', 'better', 'lose', 'yourself', 'in', 'the', 'music', 'the', 'moment', 'you', 'own', 'it', 'you', 'better', 'never', 'let', 'it', 'go', 'go', 'you', 'only', 'get', 'one', 'shot', 'do', 'not', 'miss', 'your', 'chance', 'to', 'blow', 'this', 'opportunity', 'comes', 'once', 'in', 'a', 'lifetime', 'yo', 'you', 'better…', 'his', 'soul', \"'s\", 'escaping', 'through', 'this', 'hole', 'that', 'is', 'gaping', 'this', 'world', 'is', 'mine', 'for', 'the', 'taking', 'make', 'me', 'king', 'as', 'we', 'move', 'toward', 'a', 'new', 'world', 'order', 'a', 'normal', 'life', 'is', 'boring', 'but', \"superstardom's\", 'close', 'to', 'post-mortem', 'it', 'only', 'grows', 'harder', 'homie', 'grows', 'hotter', 'he', 'blows', 'it', 'is', 'all', 'over', 'these', 'hoes', 'is', 'all', 'on', 'him', 'coast-to-coast', 'shows', 'he', 'is', 'known', 'as', 'the', 'globetrotter', 'lonely', 'roads', 'god', 'only', 'knows', 'he', 'is', 'grown', 'farther', 'from', 'home', 'he', 'is', 'no', 'father', 'he', 'goes', 'home', 'and', 'barely', 'knows', 'his', 'own', 'daughter', 'but', 'hold', 'your', 'nose', 'because', 'here', 'goes', 'the', 'cold', 'water', 'these', 'hoes', 'do', 'not', 'want', 'him', 'no', 'more', 'he', 'is', 'cold', 'product', 'they', 'moved', 'on', 'to', 'the', 'next', 'schmoe', 'who', 'flows', 'he', 'nose-dove', 'and', 'sold', 'nada', 'and', 'so', 'the', 'soap', 'opera', 'is', 'told', 'it', 'unfolds', 'i', 'suppose', 'it', 'is', 'old', 'partner', 'but', 'the', 'beat', 'goes', 'on', 'da-da-dom', 'da-dom', 'dah-dah', 'dah-dah', 'you', 'better', 'lose', 'yourself', 'in', 'the', 'music', 'the', 'moment', 'you', 'own', 'it', 'you', 'better', 'never', 'let', 'it', 'go', 'go', 'you', 'only', 'get', 'one', 'shot', 'do', 'not', 'miss', 'your', 'chance', 'to', 'blow', 'this', 'opportunity', 'comes', 'once', 'in', 'a', 'lifetime', 'yo', 'you', 'better', 'lose', 'yourself', 'in', 'the', 'music', 'the', 'moment', 'you', 'own', 'it', 'you', 'better', 'never', 'let', 'it', 'go', 'go', 'you', 'only', 'get', 'one', 'shot', 'do', 'not', 'miss', 'your', 'chance', 'to', 'blow', 'this', 'opportunity', 'comes', 'once', 'in', 'a', 'lifetime', 'yo', 'you', 'better…', 'no', 'more', 'games', 'i', 'am', 'about', 'to', 'change', 'what', 'you', 'call', 'rage', 'tear', 'this', 'motherfuckin', 'roof', 'off', 'like', 'two', 'dogs', 'caged', 'i', 'was', 'playin', 'in', 'the', 'beginning', 'the', 'mood', 'all', 'changed', 'i', 'have', 'been', 'chewed', 'up', 'and', 'spit', 'out', 'and', 'booed', 'off', 'stage', 'but', 'i', 'kept', 'rhymin', 'and', 'stepped', 'right', 'in', 'the', 'next', 'cypher', 'best', 'believe', 'somebody', 'is', 'payin', 'the', 'pied', 'piper', 'all', 'the', 'pain', 'inside', 'amplified', 'by', 'the', 'fact', 'that', 'i', 'can', 'not', 'get', 'by', 'with', 'my', 'nine-to-', 'five', 'and', 'i', 'can', 'not', 'provide', 'the', 'right', 'type', 'of', 'life', 'for', 'my', 'family', 'because', 'man', 'these', 'goddamn', 'food', 'stamps', 'do', 'not', 'buy', 'diapers', 'and', 'there', 'is', 'no', 'movie', 'there', 'is', 'no', 'mekhi', 'phifer', 'this', 'is', 'my', 'life', 'and', 'these', 'times', 'are', 'so', 'hard', 'and', 'it', 'is', 'gettin', 'even', 'harder', 'tryna', 'feed', 'and', 'water', 'my', 'seed', 'plus', 'teeter-totter', 'caught', 'up', 'between', 'bein', 'a', 'father', 'and', 'a', 'prima', 'donna', 'baby', 'mama', 'drama', 'screamin', 'on', 'her', 'too', 'much', 'for', 'me', 'to', 'want', 'to', 'stay', 'in', 'one', 'spot', 'another', 'day', 'of', \"monotony's\", 'gotten', 'me', 'to', 'the', 'point', 'i', 'am', 'like', 'a', 'snail', 'i', 'have', 'got', 'to', 'formulate', 'a', 'plot', 'or', 'end', 'up', 'in', 'jail', 'or', 'shot', 'success', 'is', 'my', 'only', 'motherfuckin', 'option', 'failure', \"'s\", 'not', 'mom', 'i', 'love', 'you', 'but', 'this', 'trailer', \"'s\", 'got', 'to', 'go', 'i', 'can', 'not', 'grow', 'old', 'in', 'salem', \"'s\", 'lot', 'so', 'here', 'i', 'go', 'it', 'is', 'my', 'shot', 'feet', 'fail', 'me', 'not', 'this', 'may', 'be', 'the', 'only', 'opportunity', 'that', 'i', 'got', 'you', 'better', 'lose', 'yourself', 'in', 'the', 'music', 'the', 'moment', 'you', 'own', 'it', 'you', 'better', 'never', 'let', 'it', 'go', 'go', 'you', 'only', 'get', 'one', 'shot', 'do', 'not', 'miss', 'your', 'chance', 'to', 'blow', 'this', 'opportunity', 'comes', 'once', 'in', 'a', 'lifetime', 'yo', 'you', 'better', 'lose', 'yourself', 'in', 'the', 'music', 'the', 'moment', 'you', 'own', 'it', 'you', 'better', 'never', 'let', 'it', 'go', 'go', 'you', 'only', 'get', 'one', 'shot', 'do', 'not', 'miss', 'your', 'chance', 'to', 'blow', 'this', 'opportunity', 'comes', 'once', 'in', 'a', 'lifetime', 'yo', 'you', 'better…', 'you', 'can', 'do', 'anything', 'you', 'set', 'your', 'mind', 'to', 'man'], ['just', 'stop', 'your', 'crying', 'it', 'is', 'a', 'sign', 'of', 'the', 'times', 'welcome', 'to', 'the', 'final', 'show', 'hope', 'you', 'are', 'wearing', 'your', 'best', 'clothes', 'you', 'can', 'not', 'bribe', 'the', 'door', 'on', 'your', 'way', 'to', 'the', 'sky', 'you', 'look', 'pretty', 'good', 'down', 'here', 'but', 'you', 'are', 'not', 'really', 'good', 'we', 'never', 'learn', 'we', 'been', 'here', 'before', 'why', 'are', 'we', 'always', 'stuck', 'and', 'running', 'from', 'the', 'bullets', 'the', 'bullets', 'we', 'never', 'learn', 'we', 'been', 'here', 'before', 'why', 'are', 'we', 'always', 'stuck', 'and', 'running', 'from', 'your', 'bullets', 'your', 'bullets', 'just', 'stop', 'your', 'crying', 'it', 'is', 'a', 'sign', 'of', 'the', 'times', 'we', 'got', 'to', 'get', 'away', 'from', 'here', 'we', 'got', 'to', 'get', 'away', 'from', 'here', 'just', 'stop', 'your', 'crying', 'it', 'will', 'be', 'alright', 'they', 'told', 'me', 'that', 'the', 'end', 'is', 'near', 'we', 'got', 'to', 'get', 'away', 'from', 'here', 'just', 'stop', 'your', 'crying', 'have', 'the', 'time', 'of', 'your', 'life', 'breaking', 'through', 'the', 'atmosphere', 'and', 'things', 'are', 'pretty', 'good', 'from', 'here', 'remember', 'everything', 'will', 'be', 'alright', 'we', 'can', 'meet', 'again', 'somewhere', 'somewhere', 'far', 'away', 'from', 'here', 'we', 'never', 'learn', 'we', 'been', 'here', 'before', 'why', 'are', 'we', 'always', 'stuck', 'and', 'running', 'from', 'the', 'bullets', 'the', 'bullets', 'we', 'never', 'learn', 'we', 'been', 'here', 'before', 'why', 'are', 'we', 'always', 'stuck', 'and', 'running', 'from', 'the', 'bullets', 'the', 'bullets', 'just', 'stop', 'your', 'crying', 'it', 'is', 'a', 'sign', 'of', 'the', 'times', 'we', 'got', 'to', 'get', 'away', 'from', 'here', 'we', 'got', 'to', 'get', 'away', 'from', 'here', 'stop', 'your', 'crying', 'baby', 'it', 'will', 'be', 'alright', 'they', 'told', 'me', 'that', 'the', 'end', 'is', 'near', 'we', 'got', 'to', 'get', 'away', 'from', 'here', 'we', 'never', 'learn', 'we', 'been', 'here', 'before', 'why', 'are', 'we', 'always', 'stuck', 'and', 'running', 'from', 'the', 'bullets', 'the', 'bullets', 'we', 'never', 'learn', 'we', 'have', 'been', 'here', 'before', 'why', 'are', 'we', 'always', 'stuck', 'and', 'running', 'from', 'the', 'bullets', 'your', 'bullets', 'we', 'do', 'not', 'talk', 'enough', 'we', 'should', 'open', 'up', 'before', 'it', 'is', 'all', 'too', 'much', 'will', 'we', 'ever', 'learn', 'we', 'have', 'been', 'here', 'before', 'it', 'is', 'just', 'what', 'we', 'know', 'stop', 'your', 'crying', 'baby', 'it', 'is', 'a', 'sign', 'of', 'the', 'times', 'we', 'got', 'to', 'get', 'away', 'we', 'got', 'to', 'get', 'away', 'we', 'got', 'to', 'get', 'away', 'we', 'got', 'to', 'get', 'away', 'we', 'got', 'to', 'get', 'away', 'we', 'got', 'to', 'we', 'got', 'to', 'away', 'we', 'got', 'to', 'we', 'got', 'to', 'away', 'we', 'got', 'to', 'we', 'got', 'to', 'away']]\n"
     ]
    }
   ],
   "source": [
    "lst = csv_to_lst('rock.csv')\n",
    "print(pre_process_all_lyrics(lst))\n"
   ]
  },
  {
   "cell_type": "code",
   "execution_count": null,
   "id": "1da6cb0b",
   "metadata": {},
   "outputs": [],
   "source": []
  }
 ],
 "metadata": {
  "kernelspec": {
   "display_name": "Python 3 (ipykernel)",
   "language": "python",
   "name": "python3"
  },
  "language_info": {
   "codemirror_mode": {
    "name": "ipython",
    "version": 3
   },
   "file_extension": ".py",
   "mimetype": "text/x-python",
   "name": "python",
   "nbconvert_exporter": "python",
   "pygments_lexer": "ipython3",
   "version": "3.8.4"
  }
 },
 "nbformat": 4,
 "nbformat_minor": 5
}
