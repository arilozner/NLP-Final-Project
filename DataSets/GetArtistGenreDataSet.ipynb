{
 "cells": [
  {
   "cell_type": "code",
   "execution_count": null,
   "id": "418e6db0",
   "metadata": {},
   "outputs": [],
   "source": [
    "from lyricsgenius import Genius\n",
    "import pandas as pd\n",
    "genius = Genius('mJE15wCPoy8WL51ozZGFMZgm_HWzcZmV6distweIjCT7ut3UA2kMfey3aTpujMfu')\n",
    "all_lyrics = \"\"\n",
    "genius.timeout = 150\n",
    "\n",
    "# Gets all lyrics for a particular artist and store in csv\n",
    "artist_list = ['Taylor Swift', 'Johnny Cash', 'Iron Maiden']\n",
    "for artist_name in artist_list:\n",
    "    artist = genius.search_artist(artist_name, max_songs=500)\n",
    "    lyric_list = []\n",
    "    for song in artist.songs:\n",
    "        lyrics_found = 0\n",
    "        while lyrics_found == 0:\n",
    "            try: \n",
    "                song_lyric = song.lyrics\n",
    "                lyric_list.append(song_lyric)\n",
    "                lyrics_found = 1\n",
    "            except:\n",
    "                print('trying again!')\n",
    "            \n",
    "    df = pd.DataFrame({'lyrics':lyric_list})\n",
    "    df.to_csv(artist_name + '.csv',index=False)"
   ]
  },
  {
   "cell_type": "code",
   "execution_count": null,
   "id": "7a5ec75a",
   "metadata": {},
   "outputs": [],
   "source": [
    "\n",
    "lyric_dict = {}\n",
    "chrts = genius.charts(chart_genre='rock',per_page=50) \n",
    "genre_list = ['rock','pop','rap']\n",
    "\n",
    "# Gets all lyrics for a particular genre and store in csv\n",
    "for genre in genre_list:\n",
    "    lyric_list = []\n",
    "    for page in range(1,10):\n",
    "        chrts = genius.charts(chart_genre=genre,page=page,per_page=50)\n",
    "        for i in range(0, len(chrts['chart_items'])):    \n",
    "            songid = chrts['chart_items'][i]['item']['id']\n",
    "            lyrics = genius.lyrics(song_id=songid)\n",
    "            lyric_list.append(lyrics)\n",
    "            lyric_dict[genre] = lyric_list"
   ]
  },
  {
   "cell_type": "code",
   "execution_count": null,
   "id": "511bce86",
   "metadata": {},
   "outputs": [],
   "source": []
  },
  {
   "cell_type": "code",
   "execution_count": null,
   "id": "adceeff7",
   "metadata": {},
   "outputs": [],
   "source": []
  }
 ],
 "metadata": {
  "kernelspec": {
   "display_name": "Python 3 (ipykernel)",
   "language": "python",
   "name": "python3"
  },
  "language_info": {
   "codemirror_mode": {
    "name": "ipython",
    "version": 3
   },
   "file_extension": ".py",
   "mimetype": "text/x-python",
   "name": "python",
   "nbconvert_exporter": "python",
   "pygments_lexer": "ipython3",
   "version": "3.8.4"
  }
 },
 "nbformat": 4,
 "nbformat_minor": 5
}
